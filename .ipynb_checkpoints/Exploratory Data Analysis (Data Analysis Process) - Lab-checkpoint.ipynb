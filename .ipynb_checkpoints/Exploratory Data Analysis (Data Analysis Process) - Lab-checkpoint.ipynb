{
 "cells": [
  {
   "cell_type": "markdown",
   "id": "6a69e7ae",
   "metadata": {},
   "source": [
    "# Introduction\n",
    "\n",
    "This is a practical hands-on lab to demonstrate an example Data Analysis Process. With this lab you will perform an Exploratory Data Analysis while using the Data Analysis Process workflow."
   ]
  },
  {
   "cell_type": "markdown",
   "id": "b29c0837",
   "metadata": {},
   "source": [
    "## Objective(s)\n",
    "\n",
    "At the end of this lab, you should be able to:\n",
    "\n",
    "* iterate through the Data Analysis Process effectively.\n",
    "* perform EDA for any organization using the Data Analysis Process to achieve objectives."
   ]
  },
  {
   "cell_type": "markdown",
   "id": "7dcafb09",
   "metadata": {},
   "source": [
    "## The Data Analysis Process\n",
    "\n",
    "### What is the Data Analysis Process?\n",
    "Simply put, the data analysis process can be defined as a collection of steps required to make sense of the available data. It summaries the different but essential tasks that a data analyst should deal with in order to deliver realiable output for his users.\n",
    "\n",
    "The Data Analysis Process include the following stages:\n",
    "* Identifying Objectives\n",
    "* Collecting Data\n",
    "* Prepare Data\n",
    "* Perform Analysis\n",
    "* Share outcome (result)"
   ]
  },
  {
   "cell_type": "markdown",
   "id": "47e733fe",
   "metadata": {},
   "source": [
    "## Sample Task\n",
    "\n",
    "You work as a Data Analyst with AZ Global, a scouting firm that recommends basketball players to NBA clubs. Your upline supervisor has asked you to identify potential players that can be recommended to clubs for the upcoming season using historical stats data. "
   ]
  },
  {
   "cell_type": "markdown",
   "id": "165b7d72",
   "metadata": {},
   "source": [
    "### Stage One: Identifying Objectives\n",
    "\n",
    "At this stage, a data analyst will ask the right questions in order to be clear about the task at hand.\n",
    "It is important that you know how to ask the right questions and also have good listening skills. Sometimes, you will \n",
    "have to ask these questions to yourself based on the task sheet before you. If this is the case, be sure to follow up on others to clarify any area that was not obvious to you.\n",
    "\n",
    "Remember that asking the right question and clearly identifying business objectives will save you time and resources while also making sure that the result of your analysis is relevant to your client or organization.\n",
    "\n",
    "From our sample task above, what questions are we likely to ask?\n",
    "* What position is the target club seeking to recruit?\n",
    "* What are the key qualities they might be interested in?\n",
    "* Are there any particular interest regarding previous team history?\n",
    "* Any particular interest regarding age, nationality, height and weight?\n",
    "\n",
    "Once we come up with this questions the next thing is to pass it to the supervisor to work on.\n"
   ]
  },
  {
   "cell_type": "markdown",
   "id": "6266d01c",
   "metadata": {},
   "source": [
    "### Feedback\n",
    "\n",
    "The supervisor has sent back a file containg answers to the questions you raised. Below are certain clarifications you must consider while carrying out your analysis.\n",
    "1. They want a player with a minimum of sixty(60) games played.\n",
    "2. They want a player with an average of 1800 minutes of games played.\n",
    "3. \n",
    "\n",
    "\n",
    "Deliveriables:\n",
    "\n",
    "The club expect a recommendation for 3 players that should be  the following:\n",
    "- a player that has a minimum of 500 FGM.\n",
    "- has an average height of \n",
    "- has played in a top 5 team.\n",
    "- has played international or regular season.\n",
    "- have a minimum of 1000 points.\n",
    "- a good record of BLK."
   ]
  },
  {
   "cell_type": "code",
   "execution_count": 1,
   "id": "78430d4b",
   "metadata": {},
   "outputs": [],
   "source": [
    "import pandas as pd\n",
    "pd.set_option('display.max_columns', None)"
   ]
  }
 ],
 "metadata": {
  "kernelspec": {
   "display_name": "Python 3 (ipykernel)",
   "language": "python",
   "name": "python3"
  },
  "language_info": {
   "codemirror_mode": {
    "name": "ipython",
    "version": 3
   },
   "file_extension": ".py",
   "mimetype": "text/x-python",
   "name": "python",
   "nbconvert_exporter": "python",
   "pygments_lexer": "ipython3",
   "version": "3.9.7"
  },
  "vscode": {
   "interpreter": {
    "hash": "c536b6d285c7bc8b344c6b60e77e72d5632380ee410af48285984064952925ae"
   }
  }
 },
 "nbformat": 4,
 "nbformat_minor": 5
}
