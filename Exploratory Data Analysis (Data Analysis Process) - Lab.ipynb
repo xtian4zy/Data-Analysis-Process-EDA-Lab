{
 "cells": [
  {
   "cell_type": "markdown",
   "id": "6a69e7ae",
   "metadata": {},
   "source": [
    "# Introduction\n",
    "\n",
    "This is a practical hands-on lab to demonstrate an example Data Analysis Process. With this lab you will perform an Exploratory Data Analysis while using the Data Analysis Process workflow."
   ]
  },
  {
   "cell_type": "markdown",
   "id": "b29c0837",
   "metadata": {},
   "source": [
    "## Objective(s)\n",
    "\n",
    "At the end of this lab, you should be able to:\n",
    "\n",
    "* iterate through the Data Analysis Process effectively.\n",
    "* perform EDA for any organization using the Data Analysis Process to achieve objectives."
   ]
  },
  {
   "cell_type": "code",
   "execution_count": 1,
   "id": "78430d4b",
   "metadata": {},
   "outputs": [],
   "source": [
    "import pandas as pd"
   ]
  }
 ],
 "metadata": {
  "kernelspec": {
   "display_name": "Python 3.9.7 ('base')",
   "language": "python",
   "name": "python3"
  },
  "language_info": {
   "codemirror_mode": {
    "name": "ipython",
    "version": 3
   },
   "file_extension": ".py",
   "mimetype": "text/x-python",
   "name": "python",
   "nbconvert_exporter": "python",
   "pygments_lexer": "ipython3",
   "version": "3.9.7"
  },
  "vscode": {
   "interpreter": {
    "hash": "c536b6d285c7bc8b344c6b60e77e72d5632380ee410af48285984064952925ae"
   }
  }
 },
 "nbformat": 4,
 "nbformat_minor": 5
}
